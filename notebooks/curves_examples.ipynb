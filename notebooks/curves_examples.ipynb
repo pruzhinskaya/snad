{
 "cells": [
  {
   "cell_type": "code",
   "execution_count": 1,
   "metadata": {},
   "outputs": [],
   "source": [
    "%matplotlib inline"
   ]
  },
  {
   "cell_type": "markdown",
   "metadata": {},
   "source": [
    "# Open Supernova Catalog"
   ]
  },
  {
   "cell_type": "markdown",
   "metadata": {},
   "source": [
    "All data we currently use are come from Open Supernova Catalog – http://sne.space. This catalog contains data for each supernova (SN) in the [JSON](https://en.wikipedia.org/wiki/JSON) file, all availible fields can be found in [schema description](https://github.com/astrocatalogs/supernovae/blob/5d080fc/SCHEMA.md).\n",
    "\n",
    "You can select SNe at http://sne.space and remember their names or press 'export CSV' button to obtain a table with the main information about selected SNe."
   ]
  },
  {
   "cell_type": "markdown",
   "metadata": {},
   "source": [
    "# Download data with `SNFiles`"
   ]
  },
  {
   "cell_type": "markdown",
   "metadata": {},
   "source": [
    "`curves` module contains class `SNFiles` that allows you to download, keep up to date, and get a lost of SN JSON files."
   ]
  },
  {
   "cell_type": "code",
   "execution_count": 15,
   "metadata": {
    "collapsed": false
   },
   "outputs": [
    {
     "name": "stdout",
     "output_type": "stream",
     "text": [
      "['/home/balodja/projects/one day/theSNisRight/sne/SN1993A.json', '/home/balodja/projects/one day/theSNisRight/sne/SN1987A.json']\n"
     ]
    }
   ],
   "source": [
    "from thesnisright.load.curves import SNFiles\n",
    "\n",
    "# Large files, wait a little to download:\n",
    "sn_files = SNFiles(['SN1993A', 'SN1987A'])\n",
    "# Also you can specify .csv from sne.space instead of list\n",
    "\n",
    "# Now files are downloaded to ./sne directory\n",
    "print(sn_files.filepaths)"
   ]
  },
  {
   "cell_type": "markdown",
   "metadata": {},
   "source": [
    "`curves.SNFiles` constructor has two useful keyword arguments: `offline` and `update`. If you set `offline=True`, no connection to OSC will be opened. If you set `update=False` data will be downloaded only if no data is unavaliable locally"
   ]
  },
  {
   "cell_type": "markdown",
   "metadata": {},
   "source": [
    "# Load data from JSON with `OSCCurve`"
   ]
  },
  {
   "cell_type": "markdown",
   "metadata": {},
   "source": [
    "You can read `JSON` data file using `curves.OSCCurve`. This class has two useful class methods: `.from_name` (obtain file using `curves.SNFiles`, can download data) and `from_json` (load data from JSON file)."
   ]
  },
  {
   "cell_type": "code",
   "execution_count": 3,
   "metadata": {},
   "outputs": [],
   "source": [
    "import os\n",
    "from thesnisright import OSCCurve\n",
    "\n",
    "name = 'SN1993A'\n",
    "sn_from_name = OSCCurve.from_name(name)\n",
    "sn_from_json = OSCCurve.from_json(os.path.join('./sne', name + '.json'))\n",
    "assert sn_from_name.json == sn_from_json.json"
   ]
  },
  {
   "cell_type": "markdown",
   "metadata": {},
   "source": [
    "`curves.OSCCurve` has a lot of attributes that describe properties of SN data: `.name`, `.has_spectra`, `.redshift`, `.host` and so on."
   ]
  },
  {
   "cell_type": "code",
   "execution_count": 4,
   "metadata": {},
   "outputs": [
    {
     "name": "stdout",
     "output_type": "stream",
     "text": [
      "\nSN: SN1993A\nSpectra in data True\nRedshift estimations: 0.0293, 0.02978\nWhat galaxy is SN host: 2MASX J07391822-6203095 or A073918-6203 or 2MASXJ07391822-6203095\n\n"
     ]
    }
   ],
   "source": [
    "from thesnisright.load.curves import OSCCurve\n",
    "\n",
    "sn = OSCCurve.from_name('SN1993A')\n",
    "print('''\n",
    "SN: {}\n",
    "Spectra in data {}\n",
    "Redshift estimations: {}\n",
    "What galaxy is SN host: {}\n",
    "'''.format(sn.name, sn.has_spectra, ', '.join(map(str, sn.redshift)), ' or '.join(sn.host)))"
   ]
  },
  {
   "cell_type": "markdown",
   "metadata": {},
   "source": [
    "# Data structure"
   ]
  },
  {
   "cell_type": "markdown",
   "metadata": {},
   "source": [
    "For the purposes of multistate Gaussian process approximation `curves.OSCCurve` has two representaions of the data: as an ordered dictionary with the data in every band and as flat arrays. The first representation is more convinient to use by human."
   ]
  },
  {
   "cell_type": "markdown",
   "metadata": {},
   "source": [
    "### Dictionary representaion"
   ]
  },
  {
   "cell_type": "code",
   "execution_count": 5,
   "metadata": {},
   "outputs": [
    {
     "name": "stdout",
     "output_type": "stream",
     "text": [
      "Availible bands for SN1993A: B, I, V\n"
     ]
    },
    {
     "data": {
      "image/png": "[encoded data removed]",
      "text/plain": [
       "<Figure size 432x288 with 1 Axes>"
      ]
     },
     "metadata": {},
     "output_type": "display_data"
    }
   ],
   "source": [
    "import matplotlib.pyplot as plt\n",
    "from thesnisright.load.curves import OSCCurve\n",
    "\n",
    "colors = {'B': 'blue', 'I': 'red', 'V': 'green'}\n",
    "\n",
    "sn = OSCCurve.from_name('SN1993A')\n",
    "print('Availible bands for {}: {}'.format(sn.name, ', '.join(sn.bands)))\n",
    "\n",
    "plt.xlabel('MJD')  # Modified Julian data, days\n",
    "plt.ylabel('Flux')\n",
    "for band, light_curve in sn.items():\n",
    "    plt.plot(light_curve.x, light_curve.y, 'x', color=colors[band], label=band)\n",
    "plt.legend()\n",
    "plt.grid()"
   ]
  },
  {
   "cell_type": "markdown",
   "metadata": {},
   "source": [
    "Required bands can be specified in consructor"
   ]
  },
  {
   "cell_type": "code",
   "execution_count": 6,
   "metadata": {},
   "outputs": [
    {
     "name": "stdout",
     "output_type": "stream",
     "text": [
      "SN1993A data file has not any photometrical observations for bands ('X',)\n"
     ]
    }
   ],
   "source": [
    "from thesnisright.load.curves import OSCCurve, EmptyPhotometryError\n",
    "\n",
    "sn = OSCCurve.from_name('SN1993A', bands='B,I')\n",
    "assert 'B' in sn\n",
    "assert 'I' in sn\n",
    "assert 'V' not in sn\n",
    "\n",
    "sn = OSCCurve.from_name('SN1993A', bands='B')\n",
    "assert 'B' in sn\n",
    "assert 'V' not in sn\n",
    "assert 'I' not in sn\n",
    "\n",
    "sn = OSCCurve.from_name('SN1993A', bands=['B', 'I'])\n",
    "assert 'B' in sn\n",
    "assert 'I' in sn\n",
    "assert 'V' not in sn\n",
    "\n",
    "try:\n",
    "    sn = OSCCurve.from_name('SN1993A', bands='X')\n",
    "except EmptyPhotometryError as e:\n",
    "    print(e)"
   ]
  },
  {
   "cell_type": "markdown",
   "metadata": {},
   "source": [
    "### Photometry data"
   ]
  },
  {
   "cell_type": "markdown",
   "metadata": {},
   "source": [
    "As you have seen above, every light curve is a `numpy.recarray` with fields `x` and `y` that specifies time and flux respectively. There are three more fieids: `x_err`, `err` and `isupperlimit`. `x_err` specifies time error, usually it is small enough for us. `err` is an error in `y` (flux) measerment. `isupperimit` specifies if current observation shows no signal from the object and sets upper limit to its flux.\n",
    "\n",
    "So we have three sorts of photometry observations in the data:\n",
    "* Normal observation with error: `.err` is positive finite and `.isupperlimit` is `False`\n",
    "* Observation without specified error: `.err` is infinite (`np.nan` for now) and `.isupperlimit` is `False`\n",
    "* Upper limit observation: `.isupperlimit` is `True`, `y` specifies maximum possible flux."
   ]
  },
  {
   "cell_type": "code",
   "execution_count": 8,
   "metadata": {},
   "outputs": [
    {
     "data": {
      "image/png": "[encoded data removed]",
      "text/plain": [
       "<Figure size 432x288 with 1 Axes>"
      ]
     },
     "metadata": {},
     "output_type": "display_data"
    },
    {
     "data": {
      "image/png": "[encoded data removed]",
      "text/plain": [
       "<Figure size 432x288 with 1 Axes>"
      ]
     },
     "metadata": {},
     "output_type": "display_data"
    }
   ],
   "source": [
    "import numpy as np\n",
    "import matplotlib.pyplot as plt\n",
    "from thesnisright.load.curves import OSCCurve\n",
    "\n",
    "def plot_lc(name, colors):\n",
    "    sn = OSCCurve.from_name(name, bands=colors.keys())\n",
    "    plt.figure()\n",
    "    plt.xlabel('MJD')  # Modified Julian data, days\n",
    "    plt.ylabel('Flux')\n",
    "    plt.title(name)\n",
    "    for band, light_curve in sn.items():\n",
    "        normal = light_curve[(np.isfinite(light_curve.err)) & (~light_curve.isupperlimit)]\n",
    "        wo_errors = light_curve[(~np.isfinite(light_curve.err)) & (~light_curve.isupperlimit)]\n",
    "        upper_limit = light_curve[light_curve.isupperlimit]\n",
    "        plt.errorbar(normal.x, normal.y, normal.err, marker='x', ls='', color=colors[band])\n",
    "        plt.plot(wo_errors.x, wo_errors.y, '*', color=colors[band], label=band)\n",
    "        plt.plot(upper_limit.x, upper_limit.y, 'v', color=colors[band], label=band)\n",
    "    plt.legend()\n",
    "    plt.grid()\n",
    "\n",
    "plot_lc('SDSS-II SN 1921', {\"g'\": 'blue', \"r'\": 'red', \"i'\": 'brown'})\n",
    "plot_lc('Gaia14ado', {'G': 'blue', 'R': 'red', 'I': 'brown'})"
   ]
  },
  {
   "cell_type": "markdown",
   "metadata": {},
   "source": [
    "### Arrays representaion"
   ]
  },
  {
   "cell_type": "markdown",
   "metadata": {},
   "source": [
    "Arrays representaion is not useful in data plotting, but can be useful in data processing.  Short description of this representation:\n",
    "* `.X` – 2-D array, first column is index, that corresponds to the band (by the index in `list(OSCCurve.keys())`), the second column is stacked `.x` from dictionary representation\n",
    "* `.y` – 1-D array, all `.y` from dictionary representation, they are normalized by the facor `.norm` and stacked in the same order as for `.X`\n",
    "* `.err` – 1-D array, errors corresponding to `.y`, normalized by factor `.norm`\n",
    "* `.norm` — float, normalization factor for `.y` and `.err`. Original fluxes and errors (as in dictionaries) are their array representations multiplied by `.norm`"
   ]
  },
  {
   "cell_type": "markdown",
   "metadata": {},
   "source": [
    "# Data preporation"
   ]
  },
  {
   "cell_type": "markdown",
   "metadata": {},
   "source": [
    "`curves.OSCCurve` has several methods to bin, filter and transforma data"
   ]
  },
  {
   "cell_type": "markdown",
   "metadata": {},
   "source": [
    "### Binning"
   ]
  },
  {
   "cell_type": "markdown",
   "metadata": {},
   "source": [
    "It can be useful to bin data before usage, because we are not interested in fast flux fluctuations. `curves.OSCCurve.binned(bin_width, discrete_time)` returns the `OSCCurve` object, where several observations are sampled to one observation if they were made during `bin_width` days interval. Now only `discrete_time=True` is tested, in this case `OSCCurve[band].x % bin_width == 0.5 * bin_width`."
   ]
  },
  {
   "cell_type": "code",
   "execution_count": 9,
   "metadata": {},
   "outputs": [
    {
     "data": {
      "image/png": "[encoded data removed]",
      "text/plain": [
       "<Figure size 432x288 with 1 Axes>"
      ]
     },
     "metadata": {},
     "output_type": "display_data"
    }
   ],
   "source": [
    "import matplotlib.pyplot as plt\n",
    "import numpy as np\n",
    "from thesnisright.load.curves import OSCCurve\n",
    "\n",
    "colors = {'G': 'blue', 'R': 'red', 'I': 'brown'}\n",
    "\n",
    "bin_width = 2\n",
    "\n",
    "sn = OSCCurve.from_name('Gaia14ado', bands=colors.keys())\n",
    "sn = sn.binned(bin_width=2, discrete_time=True)\n",
    "np.testing.assert_allclose(sn.arrays.x[:,1] % bin_width, 0.5 * bin_width)\n",
    "\n",
    "plt.figure()\n",
    "plt.xlabel('MJD')  # Modified Julian data, days\n",
    "plt.ylabel('Flux')\n",
    "plt.title(name)\n",
    "for band, light_curve in sn.items():\n",
    "    normal = light_curve[(np.isfinite(light_curve.err)) & (~light_curve.isupperlimit)]\n",
    "    wo_errors = light_curve[(~np.isfinite(light_curve.err)) & (~light_curve.isupperlimit)]\n",
    "    upper_limit = light_curve[light_curve.isupperlimit]\n",
    "    plt.errorbar(normal.x, normal.y, normal.err, marker='x', ls='', color=colors[band])\n",
    "    plt.plot(wo_errors.x, wo_errors.y, '*', color=colors[band], label=band)\n",
    "    plt.plot(upper_limit.x, upper_limit.y, 'v', color=colors[band], label=band)\n",
    "plt.legend()\n",
    "plt.grid()"
   ]
  },
  {
   "cell_type": "markdown",
   "metadata": {},
   "source": [
    "### Filtering"
   ]
  },
  {
   "cell_type": "markdown",
   "metadata": {},
   "source": [
    "`curves.OSCCurve` can be cleaned out of upper limits or data without errors using `.filtered(with_upper_limits=False, with_inf_e_flux=False, sort='default')` method. Also, output `curves.OSCCurve.keys()` can be sorted by the number of photometry observations."
   ]
  },
  {
   "cell_type": "code",
   "execution_count": 10,
   "metadata": {},
   "outputs": [],
   "source": [
    "import numpy as np\n",
    "from thesnisright.load.curves import OSCCurve\n",
    "\n",
    "def number_of_upper_limits(sn):\n",
    "    return sum(np.sum(lc.isupperlimit) for lc in sn.values())\n",
    "\n",
    "def number_of_wo_errors(sn):\n",
    "    return sum(np.sum(~np.isfinite(lc.err)) for lc in sn.values())\n",
    "\n",
    "sn = OSCCurve.from_name('SDSS-II SN 1921', bands=\"g',r',i'\")\n",
    "assert number_of_upper_limits(sn) > 0\n",
    "sn = sn.filtered(with_upper_limits=False, with_inf_e_flux=True)\n",
    "assert number_of_upper_limits(sn) == 0\n",
    "\n",
    "sn = OSCCurve.from_name('Gaia14ado', bands='G,R,I')\n",
    "assert number_of_wo_errors(sn) > 0\n",
    "sn = sn.filtered(with_upper_limits=True, with_inf_e_flux=False)\n",
    "assert number_of_wo_errors(sn) == 0"
   ]
  },
  {
   "cell_type": "markdown",
   "metadata": {},
   "source": [
    "### Set errors to observations without errors"
   ]
  },
  {
   "cell_type": "code",
   "execution_count": 11,
   "metadata": {},
   "outputs": [],
   "source": [
    "import numpy as np\n",
    "from thesnisright.load.curves import OSCCurve\n",
    "\n",
    "def number_of_wo_errors(sn):\n",
    "    return sum(np.sum(~np.isfinite(lc.err)) for lc in sn.values())\n",
    "\n",
    "sn = OSCCurve.from_name('Gaia14ado', bands='G,R,I')\n",
    "assert number_of_wo_errors(sn) > 0\n",
    "sn = sn.set_error(rel=0.01)  # Set 1% error to all data without errors\n",
    "assert number_of_wo_errors(sn) == 0"
   ]
  },
  {
   "cell_type": "markdown",
   "metadata": {},
   "source": [
    "### Transform upper limit to normal observation"
   ]
  },
  {
   "cell_type": "markdown",
   "metadata": {},
   "source": [
    "It can be useful to convert upper limit observations to \"normal\" observations with large errors, method `OSCCurve.transform_upper_limit_to_normal()` will help you with this. Some of upper limit observations have very bad quality, so you can specify in which time interval upper limits should be transformed and then remove all other upper limits. By default only upper limits that were obtained before and after normal observations are used in this transformation. Currently, `.transform_upper_limit_to_normal()` sets `.y` to the half of initial `.y` and `.err` to the initial `.y`."
   ]
  },
  {
   "cell_type": "code",
   "execution_count": 12,
   "metadata": {},
   "outputs": [
    {
     "data": {
      "image/png": "[encoded data removed]",
      "text/plain": [
       "<Figure size 432x288 with 1 Axes>"
      ]
     },
     "metadata": {},
     "output_type": "display_data"
    }
   ],
   "source": [
    "import matplotlib.pyplot as plt\n",
    "from thesnisright.load.curves import OSCCurve\n",
    "\n",
    "colors = {\"g'\": 'blue', \"r'\": 'red', \"i'\": 'brown'}\n",
    "\n",
    "sn = OSCCurve.from_name('SDSS-II SN 1921', bands=colors.keys())\n",
    "sn = sn.binned(bin_width=5)\n",
    "sn = sn.transform_upper_limit_to_normal()\n",
    "sn = sn.filtered(with_upper_limits=False, with_inf_e_flux=True)\n",
    "\n",
    "plt.figure()\n",
    "plt.xlabel('MJD')  # Modified Julian data, days\n",
    "plt.ylabel('Flux')\n",
    "plt.title(name)\n",
    "for band, light_curve in sn.items():\n",
    "    normal = light_curve[(np.isfinite(light_curve.err)) & (~light_curve.isupperlimit)]\n",
    "    wo_errors = light_curve[(~np.isfinite(light_curve.err)) & (~light_curve.isupperlimit)]\n",
    "    upper_limit = light_curve[light_curve.isupperlimit]\n",
    "    plt.errorbar(normal.x, normal.y, normal.err, marker='x', ls='', color=colors[band])\n",
    "    plt.plot(wo_errors.x, wo_errors.y, '*', color=colors[band], label=band)\n",
    "plt.legend()\n",
    "plt.grid()"
   ]
  },
  {
   "cell_type": "code",
   "execution_count": null,
   "metadata": {},
   "outputs": [],
   "source": []
  }
 ],
 "metadata": {
  "kernelspec": {
   "display_name": "Python 3",
   "language": "python",
   "name": "python3"
  },
  "language_info": {
   "codemirror_mode": {
    "name": "ipython",
    "version": 3
   },
   "file_extension": ".py",
   "mimetype": "text/x-python",
   "name": "python",
   "nbconvert_exporter": "python",
   "pygments_lexer": "ipython3",
   "version": "3.6.5"
  }
 },
 "nbformat": 4,
 "nbformat_minor": 2
}
